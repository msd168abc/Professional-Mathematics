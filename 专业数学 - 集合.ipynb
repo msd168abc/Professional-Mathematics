{
 "cells": [
  {
   "cell_type": "code",
   "execution_count": 1,
   "id": "c6dd24c4-e1ef-4c8e-85d5-83f305248a44",
   "metadata": {},
   "outputs": [
    {
     "name": "stdout",
     "output_type": "stream",
     "text": [
      "{'t', 's', 'e', 'y', 'n', 'd', 'u'}\n",
      "{'t', 's', 'd', 'u'}\n"
     ]
    }
   ],
   "source": [
    "set1 = {'s', 't', 'u', 'd', 'y'}\n",
    "set2 = {'s', 't', 'u', 'd', 'e', 'n', 't'}\n",
    "\n",
    "# 并集 (union)\n",
    "union_set = set1 | set2\n",
    "print(union_set)  # 输出: {1, 2, 3, 4, 5, 6}\n",
    "\n",
    "# 交集 (intersection)\n",
    "intersection_set = set1 & set2\n",
    "print(intersection_set)  # 输出: {3, 4}"
   ]
  },
  {
   "cell_type": "code",
   "execution_count": 2,
   "id": "aa16479f-3dea-4269-a365-8dd3a1340e6f",
   "metadata": {},
   "outputs": [
    {
     "name": "stdout",
     "output_type": "stream",
     "text": [
      "set()\n",
      "{1, 2, 3, 4, 5}\n"
     ]
    }
   ],
   "source": [
    "## 1.创建集合\n",
    "\n",
    "# 创建一个空集合\n",
    "A = set()\n",
    "\n",
    "# 创建一个包含元素的集合\n",
    "B = {1, 2, 3, 4, 5}\n",
    "\n",
    "print(A)  # 输出: 空\n",
    "print(B)  # 输出: {1, 2, 3, 4, 5}"
   ]
  },
  {
   "cell_type": "code",
   "execution_count": 3,
   "id": "98caef1e-4dc7-4105-9539-dd61621cb482",
   "metadata": {},
   "outputs": [
    {
     "name": "stdout",
     "output_type": "stream",
     "text": [
      "{1, 2, 3, 4, 5, 6}\n",
      "{1, 2, 4, 5, 6}\n",
      "{1, 2, 4, 5, 6}\n"
     ]
    }
   ],
   "source": [
    "## 2.添加和删除元素\n",
    "\n",
    "# 向集合中添加元素\n",
    "B.add(6)\n",
    "print(B)  # 输出: {1, 2, 3, 4, 5, 6}\n",
    "\n",
    "# 删除集合中的元素\n",
    "B.remove(3)\n",
    "print(B)  # 输出: {1, 2, 4, 5, 6}\n",
    "\n",
    "# 删除集合中的元素（如果元素不存在，会抛出KeyError）\n",
    "# B.remove(10)  # 会抛出错误\n",
    "\n",
    "# 使用 discard() 删除元素（不存在的元素不会抛出错误）\n",
    "B.discard(10)  # 不会抛出错误\n",
    "print(B)  # 输出: {1, 2, 4, 5, 6}"
   ]
  },
  {
   "cell_type": "code",
   "execution_count": 4,
   "id": "fadafa2f-dd13-4626-ada2-027042dd0858",
   "metadata": {},
   "outputs": [
    {
     "name": "stdout",
     "output_type": "stream",
     "text": [
      "{1, 2, 3, 4, 5, 6}\n",
      "{3, 4}\n",
      "{1, 2}\n",
      "{1, 2, 5, 6}\n"
     ]
    }
   ],
   "source": [
    "## 3.集合的基本运算\n",
    "\n",
    "set1 = {1, 2, 3, 4}\n",
    "set2 = {3, 4, 5, 6}\n",
    "\n",
    "# 并集 (union)\n",
    "union_set = set1 | set2\n",
    "print(union_set)  # 输出: {1, 2, 3, 4, 5, 6}\n",
    "\n",
    "# 交集 (intersection)\n",
    "intersection_set = set1 & set2\n",
    "print(intersection_set)  # 输出: {3, 4}\n",
    "\n",
    "# 差集 (difference)\n",
    "difference_set = set1 - set2\n",
    "print(difference_set)  # 输出: {1, 2}\n",
    "\n",
    "# 对称差集 (symmetric difference)\n",
    "symmetric_difference_set = set1 ^ set2\n",
    "print(symmetric_difference_set)  # 输出: {1, 2, 5, 6}"
   ]
  },
  {
   "cell_type": "code",
   "execution_count": 5,
   "id": "bb656cbd-9e6f-4b1d-860e-48f7fa3de0f4",
   "metadata": {},
   "outputs": [
    {
     "name": "stdout",
     "output_type": "stream",
     "text": [
      "True\n",
      "True\n"
     ]
    }
   ],
   "source": [
    "## 4.子集和超集检查\n",
    "\n",
    "set3 = {1, 2}\n",
    "set4 = {1, 2, 3, 4}\n",
    "\n",
    "# 检查子集\n",
    "print(set3.issubset(set4))  # 输出: True\n",
    "\n",
    "# 检查超集\n",
    "print(set4.issuperset(set3))  # 输出: True\n"
   ]
  },
  {
   "cell_type": "code",
   "execution_count": 6,
   "id": "6a136a2c-f986-4922-ac4e-c885692e2da8",
   "metadata": {},
   "outputs": [
    {
     "name": "stdout",
     "output_type": "stream",
     "text": [
      "3\n",
      "4\n",
      "5\n",
      "6\n"
     ]
    }
   ],
   "source": [
    "## 5.集合的遍历\n",
    "\n",
    "for item in set2:\n",
    "    print(item)"
   ]
  },
  {
   "cell_type": "code",
   "execution_count": 7,
   "id": "2d9cee00-e336-47ae-95f2-170c483a7a24",
   "metadata": {},
   "outputs": [
    {
     "name": "stdout",
     "output_type": "stream",
     "text": [
      "{1, 2, 3, 4, 5}\n"
     ]
    }
   ],
   "source": [
    "## 6.集合的去重作用\n",
    "\n",
    "# 集合会自动去重重复元素\n",
    "list_with_duplicates = [1, 2, 2, 3, 4, 4, 5]\n",
    "unique_elements = set(list_with_duplicates)\n",
    "print(unique_elements)  # 输出: {1, 2, 3, 4, 5}"
   ]
  },
  {
   "cell_type": "code",
   "execution_count": 8,
   "id": "3f0127e2-ae5c-4778-aaf9-b23fd9ab595b",
   "metadata": {},
   "outputs": [
    {
     "name": "stdout",
     "output_type": "stream",
     "text": [
      "{1, 2, 3, 4, 5, 6, 7, 8}\n",
      "{4, 5}\n"
     ]
    }
   ],
   "source": [
    "## 7.集合运算与列表的结合\n",
    "\n",
    "# 使用集合计算列表中出现的唯一元素\n",
    "list1 = [1, 2, 2, 3, 4, 5]\n",
    "list2 = [4, 5, 6, 7, 8]\n",
    "set1 = set(list1)\n",
    "set2 = set(list2)\n",
    "\n",
    "# 并集\n",
    "print(set1 | set2)  # 输出: {1, 2, 3, 4, 5, 6, 7, 8}\n",
    "\n",
    "# 交集\n",
    "print(set1 & set2)  # 输出: {4, 5}"
   ]
  }
 ],
 "metadata": {
  "kernelspec": {
   "display_name": "Python 3 (ipykernel)",
   "language": "python",
   "name": "python3"
  },
  "language_info": {
   "codemirror_mode": {
    "name": "ipython",
    "version": 3
   },
   "file_extension": ".py",
   "mimetype": "text/x-python",
   "name": "python",
   "nbconvert_exporter": "python",
   "pygments_lexer": "ipython3",
   "version": "3.13.2"
  }
 },
 "nbformat": 4,
 "nbformat_minor": 5
}
