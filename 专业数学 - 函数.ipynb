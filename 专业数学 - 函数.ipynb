{
 "cells": [
  {
   "cell_type": "code",
   "execution_count": 1,
   "id": "2bda36e9-f384-4ccf-848a-bef13d82e769",
   "metadata": {},
   "outputs": [
    {
     "name": "stdout",
     "output_type": "stream",
     "text": [
      "Requirement already satisfied: numpy in e:\\python313\\lib\\site-packages (2.2.4)\n"
     ]
    },
    {
     "name": "stderr",
     "output_type": "stream",
     "text": [
      "\n",
      "[notice] A new release of pip is available: 24.3.1 -> 25.0.1\n",
      "[notice] To update, run: python.exe -m pip install --upgrade pip\n"
     ]
    },
    {
     "name": "stdout",
     "output_type": "stream",
     "text": [
      "Requirement already satisfied: matplotlib in e:\\python313\\lib\\site-packages (3.10.1)\n",
      "Requirement already satisfied: contourpy>=1.0.1 in e:\\python313\\lib\\site-packages (from matplotlib) (1.3.1)\n",
      "Requirement already satisfied: cycler>=0.10 in e:\\python313\\lib\\site-packages (from matplotlib) (0.12.1)\n",
      "Requirement already satisfied: fonttools>=4.22.0 in e:\\python313\\lib\\site-packages (from matplotlib) (4.56.0)\n",
      "Requirement already satisfied: kiwisolver>=1.3.1 in e:\\python313\\lib\\site-packages (from matplotlib) (1.4.8)\n",
      "Requirement already satisfied: numpy>=1.23 in e:\\python313\\lib\\site-packages (from matplotlib) (2.2.4)\n",
      "Requirement already satisfied: packaging>=20.0 in e:\\python313\\lib\\site-packages (from matplotlib) (24.2)\n",
      "Requirement already satisfied: pillow>=8 in e:\\python313\\lib\\site-packages (from matplotlib) (11.1.0)\n",
      "Requirement already satisfied: pyparsing>=2.3.1 in e:\\python313\\lib\\site-packages (from matplotlib) (3.2.3)\n",
      "Requirement already satisfied: python-dateutil>=2.7 in e:\\python313\\lib\\site-packages (from matplotlib) (2.9.0.post0)\n",
      "Requirement already satisfied: six>=1.5 in e:\\python313\\lib\\site-packages (from python-dateutil>=2.7->matplotlib) (1.17.0)\n"
     ]
    },
    {
     "name": "stderr",
     "output_type": "stream",
     "text": [
      "\n",
      "[notice] A new release of pip is available: 24.3.1 -> 25.0.1\n",
      "[notice] To update, run: python.exe -m pip install --upgrade pip\n"
     ]
    },
    {
     "name": "stdout",
     "output_type": "stream",
     "text": [
      "Requirement already satisfied: sympy in e:\\python313\\lib\\site-packages (1.13.3)\n",
      "Requirement already satisfied: mpmath<1.4,>=1.1.0 in e:\\python313\\lib\\site-packages (from sympy) (1.3.0)\n"
     ]
    },
    {
     "name": "stderr",
     "output_type": "stream",
     "text": [
      "\n",
      "[notice] A new release of pip is available: 24.3.1 -> 25.0.1\n",
      "[notice] To update, run: python.exe -m pip install --upgrade pip\n"
     ]
    }
   ],
   "source": [
    "!pip install numpy\n",
    "!pip install matplotlib\n",
    "!pip install sympy"
   ]
  },
  {
   "cell_type": "code",
   "execution_count": 2,
   "id": "899c801a-1f0e-437f-ae9e-b476c0c52988",
   "metadata": {},
   "outputs": [
    {
     "data": {
      "image/png": "[encoded data removed]",
      "text/plain": [
       "<Figure size 640x480 with 1 Axes>"
      ]
     },
     "metadata": {},
     "output_type": "display_data"
    }
   ],
   "source": [
    "## 1. 定义与绘制基本函数\n",
    " # 示例：定义线性函数f(x)=2x+3并绘制其图像\n",
    "\n",
    "import numpy as np\n",
    "import matplotlib.pyplot as plt\n",
    "\n",
    "# 定义函数 f(x) = 2x + 3\n",
    "def f(x):\n",
    "    return 2*x + 3\n",
    "\n",
    "# 生成自变量 x\n",
    "x = np.linspace(-10, 10, 100)\n",
    "\n",
    "# 计算 f(x)\n",
    "y = f(x)\n",
    "\n",
    "# 绘制函数图像\n",
    "plt.plot(x, y, label=r'$f(x) = 2x + 3$', color='b')\n",
    "plt.axhline(0, color='black', linewidth=0.5)\n",
    "plt.axvline(0, color='black', linewidth=0.5)\n",
    "plt.legend()\n",
    "plt.grid()\n",
    "plt.show()"
   ]
  },
  {
   "cell_type": "code",
   "execution_count": 2,
   "id": "28cd2bca-ccaa-4e98-bfa2-ff9fd5833e02",
   "metadata": {},
   "outputs": [
    {
     "name": "stdout",
     "output_type": "stream",
     "text": [
      "函数的导数: 2*x - 4\n",
      "临界点: [2]\n"
     ]
    }
   ],
   "source": [
    "## 2. 求函数的单调性\n",
    " # 示例：计算二次函数f(x)=x**2-4x+3的导数，并求其单调性\n",
    "\n",
    "from sympy import symbols, diff, solve\n",
    "\n",
    "# 定义符号变量\n",
    "x = symbols('x')\n",
    "\n",
    "# 定义二次函数\n",
    "f = x**2 - 4*x + 3\n",
    "\n",
    "# 计算导数\n",
    "f_derivative = diff(f, x)\n",
    "\n",
    "# 求导数为0的解 (临界点)\n",
    "critical_points = solve(f_derivative, x)\n",
    "\n",
    "print(\"函数的导数:\", f_derivative)\n",
    "print(\"临界点:\", critical_points)"
   ]
  },
  {
   "cell_type": "code",
   "execution_count": 4,
   "id": "50d03ef4-bf9c-426e-a36b-c41b078da82b",
   "metadata": {},
   "outputs": [
    {
     "name": "stdout",
     "output_type": "stream",
     "text": [
      "极值点: [-1, 3]\n",
      "极值点的二阶导数: {-1: -12, 3: 12}\n"
     ]
    }
   ],
   "source": [
    "## 3. 计算函数的极值\n",
    " # 示例：求三次函数g(x)=x**3-3x**2-9x+5的极值点\n",
    "\n",
    "# 定义三次函数 g(x)\n",
    "g = x**3 - 3*x**2 - 9*x + 5\n",
    "\n",
    "# 计算导数\n",
    "g_derivative = diff(g, x)\n",
    "\n",
    "# 求导数为0的解 (极值点)\n",
    "critical_points = solve(g_derivative, x)\n",
    "\n",
    "# 计算二阶导数以判断极值类型\n",
    "g_second_derivative = diff(g_derivative, x)\n",
    "extrema_types = {p: g_second_derivative.subs(x, p) for p in critical_points}\n",
    "\n",
    "print(\"极值点:\", critical_points)\n",
    "print(\"极值点的二阶导数:\", extrema_types)"
   ]
  },
  {
   "cell_type": "code",
   "execution_count": 3,
   "id": "de89f6ba-5bbe-4dd3-bb38-e2c31143a17f",
   "metadata": {},
   "outputs": [
    {
     "name": "stdout",
     "output_type": "stream",
     "text": [
      "h(x) 是奇函数\n"
     ]
    }
   ],
   "source": [
    "## 4. 计算函数的对称性\n",
    " # 示例：判断函数h(x)=x**3-x是否是奇函数、偶函数或无对称性\n",
    "\n",
    "# 定义函数 h(x)\n",
    "h = x**3 - x\n",
    "\n",
    "# 计算 h(-x)\n",
    "h_neg_x = h.subs(x, -x)\n",
    "\n",
    "# 判断对称性\n",
    "if h == h_neg_x:\n",
    "    print(\"h(x) 是偶函数\")\n",
    "elif h == -h_neg_x:\n",
    "    print(\"h(x) 是奇函数\")\n",
    "else:\n",
    "    print(\"h(x) 既不是偶函数也不是奇函数\")"
   ]
  },
  {
   "cell_type": "code",
   "execution_count": 4,
   "id": "aa966bc7-e3ad-46d5-b89e-3c315ed9eaa5",
   "metadata": {},
   "outputs": [
    {
     "name": "stdout",
     "output_type": "stream",
     "text": [
      "反函数: [(y + 1)/(y - 1)]\n"
     ]
    }
   ],
   "source": [
    "## 5. 计算函数的反函数\n",
    " # 示例：求函数f(x)=(x+1)/(x-1)的反函数\n",
    "\n",
    "from sympy import Eq, solve\n",
    "\n",
    "# 定义变量\n",
    "y = symbols('y')\n",
    "\n",
    "# 定义函数 f(x)\n",
    "f = (x + 1) / (x - 1)\n",
    "\n",
    "# 设 y = f(x)，求 x\n",
    "inverse_function = solve(Eq(y, f), x)\n",
    "\n",
    "print(\"反函数:\", inverse_function)"
   ]
  },
  {
   "cell_type": "code",
   "execution_count": 5,
   "id": "681855dd-6477-42d2-8b40-19c38e34becf",
   "metadata": {},
   "outputs": [
    {
     "name": "stdout",
     "output_type": "stream",
     "text": [
      "复合函数 g(x) = 2**(2**x + 1) + 1\n"
     ]
    }
   ],
   "source": [
    "## 6. 复合函数关系的建立\n",
    " # 示例：已知函数f(x)=2**x+1，求其复合函数g(x)=f(f(x))\n",
    "\n",
    "# 定义 f(x)\n",
    "f = 2**x + 1\n",
    "\n",
    "# 计算 g(x) = f(f(x))\n",
    "g = f.subs(x, f)\n",
    "\n",
    "print(\"复合函数 g(x) =\", g)"
   ]
  },
  {
   "cell_type": "code",
   "execution_count": null,
   "id": "9fc90a19-840f-45f6-bfb9-bb652462f69b",
   "metadata": {},
   "outputs": [],
   "source": []
  }
 ],
 "metadata": {
  "kernelspec": {
   "display_name": "Python 3 (ipykernel)",
   "language": "python",
   "name": "python3"
  },
  "language_info": {
   "codemirror_mode": {
    "name": "ipython",
    "version": 3
   },
   "file_extension": ".py",
   "mimetype": "text/x-python",
   "name": "python",
   "nbconvert_exporter": "python",
   "pygments_lexer": "ipython3",
   "version": "3.13.2"
  }
 },
 "nbformat": 4,
 "nbformat_minor": 5
}
